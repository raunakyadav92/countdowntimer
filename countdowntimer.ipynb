{
  "nbformat": 4,
  "nbformat_minor": 0,
  "metadata": {
    "colab": {
      "provenance": [],
      "authorship_tag": "ABX9TyPitgWgI2q7W3LhCcIFEYXT",
      "include_colab_link": true
    },
    "kernelspec": {
      "name": "python3",
      "display_name": "Python 3"
    },
    "language_info": {
      "name": "python"
    }
  },
  "cells": [
    {
      "cell_type": "markdown",
      "metadata": {
        "id": "view-in-github",
        "colab_type": "text"
      },
      "source": [
        "<a href=\"https://colab.research.google.com/github/raunakyadav92/countdowntimer/blob/main/countdowntimer.ipynb\" target=\"_parent\"><img src=\"https://colab.research.google.com/assets/colab-badge.svg\" alt=\"Open In Colab\"/></a>"
      ]
    },
    {
      "cell_type": "code",
      "execution_count": null,
      "metadata": {
        "id": "1MP5__71Xz67"
      },
      "outputs": [],
      "source": [
        "import time\n",
        "\n",
        "def countdown(t):\n",
        "    while t:\n",
        "        mins, secs = divmod(t, 60)\n",
        "        timer = '{:02d}:{:02d}'.format(mins, secs)\n",
        "        print(f\"⏳ {timer}\", end=\"\\r\")\n",
        "        time.sleep(1)\n",
        "        t -= 1\n",
        "    print(\"\\n⏰ Time's up!\")\n",
        "\n",
        "print(\"\\n⏰ Simple Countdown Timer ⏰\")\n",
        "t = int(input(\"Enter time in seconds: \"))\n",
        "countdown(t)\n"
      ]
    }
  ]
}